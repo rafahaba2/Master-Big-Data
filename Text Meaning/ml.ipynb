{
 "cells": [
  {
   "cell_type": "code",
   "execution_count": 5,
   "metadata": {},
   "outputs": [],
   "source": [
    "import nltk\n",
    "from nltk.sentiment import vader"
   ]
  },
  {
   "cell_type": "markdown",
   "metadata": {},
   "source": [
    "### Opening positive and negative reviews files"
   ]
  },
  {
   "cell_type": "code",
   "execution_count": 6,
   "metadata": {},
   "outputs": [],
   "source": [
    "positiveReviewsFileName = \"rt-polarity.pos\"\n",
    "with open (positiveReviewsFileName, 'r') as f:\n",
    "    positiveReviews = f.readlines()"
   ]
  },
  {
   "cell_type": "code",
   "execution_count": 7,
   "metadata": {},
   "outputs": [],
   "source": [
    "negativeReviewsFileName = \"rt-polarity.neg\"\n",
    "with open (negativeReviewsFileName, 'r') as f:\n",
    "    negativeReviews = f.readlines()"
   ]
  },
  {
   "cell_type": "code",
   "execution_count": 8,
   "metadata": {},
   "outputs": [],
   "source": [
    "testTrainingSplitIndex = 2500"
   ]
  },
  {
   "cell_type": "code",
   "execution_count": 9,
   "metadata": {},
   "outputs": [],
   "source": [
    "testNegativeReviews = negativeReviews[testTrainingSplitIndex+1:]\n",
    "testPositiveReviews = positiveReviews[testTrainingSplitIndex+1:]"
   ]
  },
  {
   "cell_type": "code",
   "execution_count": 10,
   "metadata": {},
   "outputs": [],
   "source": [
    "trainingNegativeReviews = negativeReviews[:testTrainingSplitIndex]\n",
    "trainingPositiveReviews = positiveReviews[:testTrainingSplitIndex]"
   ]
  },
  {
   "cell_type": "markdown",
   "metadata": {},
   "source": [
    "### Making lists with positive and negative words, then join them in a set with all the words"
   ]
  },
  {
   "cell_type": "code",
   "execution_count": 11,
   "metadata": {},
   "outputs": [],
   "source": [
    "positiveWordList = [word for line in trainingPositiveReviews for word in line.split()]\n",
    "negativeWordList = [word for line in trainingNegativeReviews for word in line.split()]\n",
    "allWordList = [item for sublist in[positiveWordList, negativeWordList] for item in sublist]\n",
    "vocabulary = list(set(allWordList))"
   ]
  },
  {
   "cell_type": "markdown",
   "metadata": {},
   "source": [
    "### Function for extracting the features"
   ]
  },
  {
   "cell_type": "code",
   "execution_count": 12,
   "metadata": {},
   "outputs": [],
   "source": [
    "def extract_features(review):\n",
    "    review_words = set(review)\n",
    "    features = {}\n",
    "    for word in vocabulary:\n",
    "        features[word] = (word in review_words)\n",
    "    return features"
   ]
  },
  {
   "cell_type": "markdown",
   "metadata": {},
   "source": [
    "### Defining the training data."
   ]
  },
  {
   "cell_type": "code",
   "execution_count": 13,
   "metadata": {},
   "outputs": [],
   "source": [
    "netTaggedTrainingReviewList = [{'review':oneReview.split(), 'label': 'negative'}for oneReview in trainingNegativeReviews]\n",
    "posTaggedTrainingReviewList = [{'review':oneReview.split(), 'label': 'positive'}for oneReview in trainingPositiveReviews]\n",
    "fullTaggedTrainingData = [item for sublist in[netTaggedTrainingReviewList, posTaggedTrainingReviewList] for item in sublist]\n",
    "trainingData = [(review['review'], review['label']) for review in fullTaggedTrainingData]"
   ]
  },
  {
   "cell_type": "code",
   "execution_count": 14,
   "metadata": {},
   "outputs": [],
   "source": [
    "trainingFeatures = nltk.classify.apply_features(extract_features, trainingData)"
   ]
  },
  {
   "cell_type": "markdown",
   "metadata": {},
   "source": [
    "### Function that classifies a sentence in negative or positive using naive Bayes."
   ]
  },
  {
   "cell_type": "code",
   "execution_count": 16,
   "metadata": {},
   "outputs": [],
   "source": [
    "def naibeBayesSentimentCalculator(review):\n",
    "    problemInstance = review.split()\n",
    "    problemFeatures = extract_features(problemInstance)\n",
    "    return trainedNBClassifier.classify(problemFeatures)"
   ]
  },
  {
   "cell_type": "code",
   "execution_count": 17,
   "metadata": {},
   "outputs": [],
   "source": [
    "trainedNBClassifier = nltk.NaiveBayesClassifier.train(trainingFeatures)"
   ]
  },
  {
   "cell_type": "code",
   "execution_count": 19,
   "metadata": {},
   "outputs": [
    {
     "data": {
      "text/plain": [
       "'negative'"
      ]
     },
     "execution_count": 19,
     "metadata": {},
     "output_type": "execute_result"
    }
   ],
   "source": [
    "naibeBayesSentimentCalculator(\"Best movie ever\")"
   ]
  },
  {
   "cell_type": "markdown",
   "metadata": {},
   "source": [
    "### Functions to get the accuracy of the naive bayes model."
   ]
  },
  {
   "cell_type": "code",
   "execution_count": 20,
   "metadata": {},
   "outputs": [],
   "source": [
    "def getTestReviewSentiments(naibeBayesSentimentCalculator):\n",
    "    testNegResults = [naibeBayesSentimentCalculator(review) for review in testNegativeReviews]\n",
    "    testPosResults = [naibeBayesSentimentCalculator(review) for review in testPositiveReviews]\n",
    "    labelToNum = {'positive':1, 'negative':-1}\n",
    "    numericNegResults = [labelToNum[x] for x in testNegResults]\n",
    "    numericPosResults = [labelToNum[x] for x in testPosResults]\n",
    "    return {'results-on-positive': numericPosResults, 'results-on-negative':numericNegResults}"
   ]
  },
  {
   "cell_type": "code",
   "execution_count": 21,
   "metadata": {},
   "outputs": [],
   "source": [
    "def runDiagnostics(reviewResult):\n",
    "    positiveReviewsResult = reviewResult['results-on-positive']\n",
    "    negativeReviewsResult = reviewResult['results-on-negative']\n",
    "    numTruePositive = sum(x > 0 for x in positiveReviewsResult)\n",
    "    numTrueNegative = sum(x < 0 for x in negativeReviewsResult)\n",
    "    pctTruePositive = float(numTruePositive)/len(positiveReviewsResult)\n",
    "    pctTrueNegative = float(numTrueNegative)/len(negativeReviewsResult)\n",
    "    totalAccurate = numTrueNegative + numTruePositive\n",
    "    total = len(positiveReviewsResult) + len(negativeReviewsResult)\n",
    "    print(\"Accuracy on positive reviews = \" + \"%.2f\" % (pctTruePositive * 100) + \"%\")\n",
    "    print(\"Accuracy on negative reviews = \" + \"%.2f\" % (pctTrueNegative * 100) + \"%\")\n",
    "    print(\"Overall accuracy =\" + \"%.2f\" % (totalAccurate * 100/total) + \"%\")\n",
    "    "
   ]
  },
  {
   "cell_type": "code",
   "execution_count": 22,
   "metadata": {},
   "outputs": [
    {
     "name": "stdout",
     "output_type": "stream",
     "text": [
      "Accuracy on positive reviews = 73.39%\n",
      "Accuracy on negative reviews = 77.07%\n",
      "Overall accuracy =75.23%\n"
     ]
    }
   ],
   "source": [
    "runDiagnostics(getTestReviewSentiments(naibeBayesSentimentCalculator))"
   ]
  },
  {
   "cell_type": "code",
   "execution_count": null,
   "metadata": {},
   "outputs": [],
   "source": []
  }
 ],
 "metadata": {
  "kernelspec": {
   "display_name": "Python 3",
   "language": "python",
   "name": "python3"
  },
  "language_info": {
   "codemirror_mode": {
    "name": "ipython",
    "version": 3
   },
   "file_extension": ".py",
   "mimetype": "text/x-python",
   "name": "python",
   "nbconvert_exporter": "python",
   "pygments_lexer": "ipython3",
   "version": "3.8.5"
  }
 },
 "nbformat": 4,
 "nbformat_minor": 4
}
