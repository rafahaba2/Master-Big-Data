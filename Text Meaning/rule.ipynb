{
 "cells": [
  {
   "cell_type": "code",
   "execution_count": 49,
   "metadata": {},
   "outputs": [],
   "source": [
    "import nltk\n",
    "from nltk.sentiment import vader"
   ]
  },
  {
   "cell_type": "markdown",
   "metadata": {},
   "source": [
    "### Using vader library for the sentiment analysis"
   ]
  },
  {
   "cell_type": "code",
   "execution_count": 50,
   "metadata": {},
   "outputs": [],
   "source": [
    "sia = vader.SentimentIntensityAnalyzer()"
   ]
  },
  {
   "cell_type": "code",
   "execution_count": 51,
   "metadata": {},
   "outputs": [
    {
     "data": {
      "text/plain": [
       "{'neg': 0.648, 'neu': 0.352, 'pos': 0.0, 'compound': -0.5696}"
      ]
     },
     "execution_count": 51,
     "metadata": {},
     "output_type": "execute_result"
    }
   ],
   "source": [
    "sia.polarity_scores(\"What a terrible restaurant!!\")"
   ]
  },
  {
   "cell_type": "code",
   "execution_count": 52,
   "metadata": {},
   "outputs": [
    {
     "data": {
      "text/plain": [
       "{'neg': 1.0, 'neu': 0.0, 'pos': 0.0, 'compound': -0.4767}"
      ]
     },
     "execution_count": 52,
     "metadata": {},
     "output_type": "execute_result"
    }
   ],
   "source": [
    "sia.polarity_scores(\"terrible\")"
   ]
  },
  {
   "cell_type": "code",
   "execution_count": 53,
   "metadata": {},
   "outputs": [
    {
     "data": {
      "text/plain": [
       "{'neg': 0.0, 'neu': 0.0, 'pos': 1.0, 'compound': 0.4588}"
      ]
     },
     "execution_count": 53,
     "metadata": {},
     "output_type": "execute_result"
    }
   ],
   "source": [
    "sia.polarity_scores(\":)\")"
   ]
  },
  {
   "cell_type": "code",
   "execution_count": 54,
   "metadata": {},
   "outputs": [
    {
     "data": {
      "text/plain": [
       "{'neg': 0.5, 'neu': 0.5, 'pos': 0.0, 'compound': -0.6124}"
      ]
     },
     "execution_count": 54,
     "metadata": {},
     "output_type": "execute_result"
    }
   ],
   "source": [
    "sia.polarity_scores(\"the cumin was the kiss of death\")"
   ]
  },
  {
   "cell_type": "code",
   "execution_count": 55,
   "metadata": {},
   "outputs": [
    {
     "data": {
      "text/plain": [
       "{'neg': 0.0, 'neu': 0.508, 'pos': 0.492, 'compound': 0.4404}"
      ]
     },
     "execution_count": 55,
     "metadata": {},
     "output_type": "execute_result"
    }
   ],
   "source": [
    "sia.polarity_scores(\"the food was good\")"
   ]
  },
  {
   "cell_type": "code",
   "execution_count": 56,
   "metadata": {},
   "outputs": [
    {
     "data": {
      "text/plain": [
       "{'neg': 0.0, 'neu': 0.463, 'pos': 0.537, 'compound': 0.5399}"
      ]
     },
     "execution_count": 56,
     "metadata": {},
     "output_type": "execute_result"
    }
   ],
   "source": [
    "sia.polarity_scores(\"the food was good!!\")"
   ]
  },
  {
   "cell_type": "code",
   "execution_count": 57,
   "metadata": {},
   "outputs": [
    {
     "data": {
      "text/plain": [
       "{'neg': 0.428, 'neu': 0.572, 'pos': 0.0, 'compound': -0.457}"
      ]
     },
     "execution_count": 57,
     "metadata": {},
     "output_type": "execute_result"
    }
   ],
   "source": [
    "sia.polarity_scores(\"the food was not good!!\")"
   ]
  },
  {
   "cell_type": "code",
   "execution_count": 58,
   "metadata": {},
   "outputs": [
    {
     "data": {
      "text/plain": [
       "{'neg': 0.0, 'neu': 0.563, 'pos': 0.437, 'compound': 0.5964}"
      ]
     },
     "execution_count": 58,
     "metadata": {},
     "output_type": "execute_result"
    }
   ],
   "source": [
    "sia.polarity_scores(\"the food was not the worst!!\")"
   ]
  },
  {
   "cell_type": "code",
   "execution_count": 59,
   "metadata": {},
   "outputs": [
    {
     "data": {
      "text/plain": [
       "{'neg': 0.0, 'neu': 0.452, 'pos': 0.548, 'compound': 0.5622}"
      ]
     },
     "execution_count": 59,
     "metadata": {},
     "output_type": "execute_result"
    }
   ],
   "source": [
    "sia.polarity_scores(\"the food was GOOD \")"
   ]
  },
  {
   "cell_type": "code",
   "execution_count": 60,
   "metadata": {},
   "outputs": [
    {
     "data": {
      "text/plain": [
       "{'neg': 0.234, 'neu': 0.398, 'pos': 0.368, 'compound': 0.3291}"
      ]
     },
     "execution_count": 60,
     "metadata": {},
     "output_type": "execute_result"
    }
   ],
   "source": [
    "sia.polarity_scores(\"I usually hate seafood but I liked this\")"
   ]
  },
  {
   "cell_type": "code",
   "execution_count": 61,
   "metadata": {},
   "outputs": [
    {
     "data": {
      "text/plain": [
       "{'neg': 0.352, 'neu': 0.381, 'pos': 0.267, 'compound': -0.2263}"
      ]
     },
     "execution_count": 61,
     "metadata": {},
     "output_type": "execute_result"
    }
   ],
   "source": [
    "sia.polarity_scores(\"I usually hate seafood and I liked this\")"
   ]
  },
  {
   "cell_type": "markdown",
   "metadata": {},
   "source": [
    "### Loading positive and negative reviews"
   ]
  },
  {
   "cell_type": "code",
   "execution_count": 62,
   "metadata": {
    "scrolled": true
   },
   "outputs": [],
   "source": [
    "positiveReviewsFileName = \"rt-polarity.pos\"\n",
    "with open (positiveReviewsFileName, 'r') as f:\n",
    "    positiveReviews = f.readlines()"
   ]
  },
  {
   "cell_type": "code",
   "execution_count": 63,
   "metadata": {},
   "outputs": [],
   "source": [
    "negativeReviewsFileName = \"rt-polarity.neg\"\n",
    "with open (negativeReviewsFileName, 'r') as f:\n",
    "    negativeReviews = f.readlines()"
   ]
  },
  {
   "cell_type": "code",
   "execution_count": 64,
   "metadata": {},
   "outputs": [
    {
     "data": {
      "text/plain": [
       "5331"
      ]
     },
     "execution_count": 64,
     "metadata": {},
     "output_type": "execute_result"
    }
   ],
   "source": [
    "len(positiveReviews)"
   ]
  },
  {
   "cell_type": "code",
   "execution_count": 65,
   "metadata": {},
   "outputs": [
    {
     "data": {
      "text/plain": [
       "5331"
      ]
     },
     "execution_count": 65,
     "metadata": {},
     "output_type": "execute_result"
    }
   ],
   "source": [
    "len(negativeReviews)"
   ]
  },
  {
   "cell_type": "markdown",
   "metadata": {},
   "source": [
    "### Function for the sentiment analysis using vader"
   ]
  },
  {
   "cell_type": "code",
   "execution_count": 66,
   "metadata": {},
   "outputs": [],
   "source": [
    "sia = vader.SentimentIntensityAnalyzer()\n",
    "def vaderSentiment(review):\n",
    "    return sia.polarity_scores(review)['compound']"
   ]
  },
  {
   "cell_type": "code",
   "execution_count": 67,
   "metadata": {},
   "outputs": [
    {
     "data": {
      "text/plain": [
       "0.6369"
      ]
     },
     "execution_count": 67,
     "metadata": {},
     "output_type": "execute_result"
    }
   ],
   "source": [
    "review = \"this is the best restaurant in the city\"\n",
    "vaderSentiment(review)"
   ]
  },
  {
   "cell_type": "markdown",
   "metadata": {},
   "source": [
    "### Printing negative reviews"
   ]
  },
  {
   "cell_type": "code",
   "execution_count": 68,
   "metadata": {},
   "outputs": [
    {
     "data": {
      "text/plain": [
       "[0.0258,\n",
       " 0.4404,\n",
       " 0.0,\n",
       " -0.25,\n",
       " 0.0,\n",
       " 0.4939,\n",
       " 0.0,\n",
       " 0.0,\n",
       " -0.34,\n",
       " -0.3612,\n",
       " -0.3678,\n",
       " 0.397,\n",
       " -0.0384,\n",
       " -0.836,\n",
       " 0.3818,\n",
       " -0.2565,\n",
       " 0.4404,\n",
       " 0.4199,\n",
       " 0.0772,\n",
       " 0.0,\n",
       " 0.7346,\n",
       " -0.3559,\n",
       " 0.2732,\n",
       " -0.0516,\n",
       " 0.4939,\n",
       " 0.4019,\n",
       " -0.5423,\n",
       " -0.8887,\n",
       " 0.6068,\n",
       " -0.296,\n",
       " 0.0772,\n",
       " 0.0,\n",
       " 0.5267,\n",
       " 0.4939,\n",
       " -0.7845,\n",
       " -0.5865,\n",
       " 0.0258,\n",
       " -0.2457,\n",
       " -0.5789,\n",
       " 0.0,\n",
       " -0.25,\n",
       " -0.6808,\n",
       " 0.4588,\n",
       " 0.5574,\n",
       " 0.802,\n",
       " -0.4767,\n",
       " 0.6124,\n",
       " -0.4767,\n",
       " -0.7579,\n",
       " 0.0,\n",
       " -0.5562,\n",
       " 0.0516,\n",
       " 0.6369,\n",
       " -0.4767,\n",
       " -0.5574,\n",
       " 0.4404,\n",
       " 0.8658,\n",
       " 0.0,\n",
       " 0.3477,\n",
       " 0.5574,\n",
       " -0.8591,\n",
       " -0.5574,\n",
       " -0.5994,\n",
       " 0.128,\n",
       " 0.1154,\n",
       " 0.34,\n",
       " 0.2509,\n",
       " 0.4404,\n",
       " -0.4767,\n",
       " 0.0,\n",
       " 0.0,\n",
       " -0.144,\n",
       " 0.4215,\n",
       " 0.0,\n",
       " 0.2846,\n",
       " -0.5267,\n",
       " 0.0,\n",
       " -0.0258,\n",
       " -0.2235,\n",
       " -0.4824,\n",
       " 0.5095,\n",
       " -0.4215,\n",
       " 0.4402,\n",
       " 0.4019,\n",
       " -0.7269,\n",
       " 0.0,\n",
       " 0.875,\n",
       " 0.4767,\n",
       " -0.3239,\n",
       " 0.1779,\n",
       " 0.8497,\n",
       " 0.4404,\n",
       " 0.0,\n",
       " 0.3612,\n",
       " 0.802,\n",
       " -0.1263,\n",
       " -0.3612,\n",
       " 0.5994,\n",
       " 0.0,\n",
       " 0.0,\n",
       " -0.4391,\n",
       " -0.6369,\n",
       " 0.34,\n",
       " 0.3612,\n",
       " 0.0,\n",
       " 0.7715,\n",
       " -0.5096,\n",
       " -0.1263,\n",
       " -0.3612,\n",
       " -0.835,\n",
       " 0.2732,\n",
       " -0.4019,\n",
       " -0.8201,\n",
       " -0.6486,\n",
       " 0.0,\n",
       " -0.2382,\n",
       " 0.631,\n",
       " -0.6351,\n",
       " -0.3182,\n",
       " 0.0451,\n",
       " -0.4168,\n",
       " -0.2263,\n",
       " -0.2263,\n",
       " 0.4019,\n",
       " -0.296,\n",
       " 0.0,\n",
       " 0.1027,\n",
       " -0.3089,\n",
       " 0.0,\n",
       " 0.3612,\n",
       " 0.296,\n",
       " -0.4215,\n",
       " -0.3804,\n",
       " -0.3337,\n",
       " 0.6124,\n",
       " -0.2782,\n",
       " 0.0258,\n",
       " 0.4118,\n",
       " 0.3612,\n",
       " 0.2263,\n",
       " 0.4939,\n",
       " 0.3016,\n",
       " 0.4939,\n",
       " 0.9273,\n",
       " 0.785,\n",
       " 0.5106,\n",
       " -0.5423,\n",
       " 0.5267,\n",
       " 0.0,\n",
       " 0.743,\n",
       " 0.0,\n",
       " 0.0,\n",
       " -0.8074,\n",
       " -0.4019,\n",
       " 0.4767,\n",
       " 0.4939,\n",
       " -0.6077,\n",
       " -0.296,\n",
       " -0.5106,\n",
       " 0.4555,\n",
       " 0.7184,\n",
       " 0.0258,\n",
       " -0.6369,\n",
       " -0.4404,\n",
       " 0.0258,\n",
       " 0.0,\n",
       " 0.0,\n",
       " -0.6501,\n",
       " -0.2732,\n",
       " 0.6038,\n",
       " -0.5574,\n",
       " -0.4991,\n",
       " 0.4019,\n",
       " -0.4404,\n",
       " 0.0,\n",
       " -0.865,\n",
       " 0.0,\n",
       " 0.7234,\n",
       " -0.4404,\n",
       " -0.3182,\n",
       " -0.5095,\n",
       " -0.4717,\n",
       " 0.7579,\n",
       " 0.0258,\n",
       " -0.25,\n",
       " -0.0516,\n",
       " 0.2846,\n",
       " 0.836,\n",
       " 0.0,\n",
       " 0.6369,\n",
       " -0.4497,\n",
       " 0.0,\n",
       " -0.1779,\n",
       " -0.4939,\n",
       " 0.1531,\n",
       " 0.0,\n",
       " 0.0,\n",
       " 0.0,\n",
       " -0.6397,\n",
       " -0.5574,\n",
       " 0.775,\n",
       " 0.0258,\n",
       " -0.7506,\n",
       " -0.2183,\n",
       " -0.0516,\n",
       " 0.25,\n",
       " -0.76,\n",
       " -0.3412,\n",
       " 0.0,\n",
       " 0.296,\n",
       " -0.6808,\n",
       " -0.4173,\n",
       " 0.2272,\n",
       " 0.4588,\n",
       " 0.5859,\n",
       " 0.2052,\n",
       " -0.7096,\n",
       " 0.875,\n",
       " -0.2484,\n",
       " 0.0,\n",
       " 0.0,\n",
       " 0.1027,\n",
       " -0.0129,\n",
       " -0.3818,\n",
       " 0.6428,\n",
       " 0.0,\n",
       " 0.0,\n",
       " 0.7717,\n",
       " -0.6249,\n",
       " 0.0,\n",
       " -0.6249,\n",
       " -0.09,\n",
       " -0.3252,\n",
       " 0.6486,\n",
       " 0.0118,\n",
       " 0.0,\n",
       " -0.4939,\n",
       " 0.6027,\n",
       " 0.6059,\n",
       " -0.5574,\n",
       " 0.5574,\n",
       " 0.6779,\n",
       " 0.0,\n",
       " 0.0,\n",
       " -0.1027,\n",
       " -0.0772,\n",
       " -0.2078,\n",
       " 0.2263,\n",
       " 0.0,\n",
       " 0.0772,\n",
       " 0.3182,\n",
       " 0.8617,\n",
       " -0.5106,\n",
       " 0.1531,\n",
       " -0.7184,\n",
       " 0.0,\n",
       " -0.1027,\n",
       " 0.4939,\n",
       " -0.4215,\n",
       " -0.743,\n",
       " 0.0,\n",
       " 0.1779,\n",
       " -0.5423,\n",
       " 0.0,\n",
       " 0.4492,\n",
       " 0.3182,\n",
       " -0.3089,\n",
       " 0.4404,\n",
       " 0.5499,\n",
       " 0.2259,\n",
       " -0.2462,\n",
       " 0.0,\n",
       " -0.802,\n",
       " -0.765,\n",
       " 0.0258,\n",
       " 0.0258,\n",
       " -0.8885,\n",
       " 0.0,\n",
       " -0.7351,\n",
       " 0.3612,\n",
       " -0.4404,\n",
       " 0.4995,\n",
       " 0.3182,\n",
       " -0.34,\n",
       " 0.7517,\n",
       " 0.8126,\n",
       " 0.7693,\n",
       " 0.1984,\n",
       " 0.3818,\n",
       " -0.8885,\n",
       " -0.2074,\n",
       " 0.0,\n",
       " -0.25,\n",
       " -0.34,\n",
       " -0.1779,\n",
       " 0.0067,\n",
       " -0.6765,\n",
       " 0.0,\n",
       " 0.6124,\n",
       " 0.4215,\n",
       " 0.0,\n",
       " -0.5267,\n",
       " -0.6606,\n",
       " 0.3818,\n",
       " 0.8225,\n",
       " 0.25,\n",
       " -0.743,\n",
       " -0.1531,\n",
       " -0.6361,\n",
       " 0.8769,\n",
       " 0.7897,\n",
       " 0.0,\n",
       " 0.0,\n",
       " -0.3412,\n",
       " -0.0516,\n",
       " 0.1901,\n",
       " 0.5859,\n",
       " 0.1901,\n",
       " 0.1531,\n",
       " 0.0,\n",
       " 0.0,\n",
       " 0.5994,\n",
       " 0.25,\n",
       " -0.34,\n",
       " 0.875,\n",
       " -0.2926,\n",
       " 0.3632,\n",
       " -0.5267,\n",
       " -0.4939,\n",
       " 0.2732,\n",
       " 0.0,\n",
       " -0.5106,\n",
       " -0.6124,\n",
       " 0.4144,\n",
       " 0.0772,\n",
       " 0.0,\n",
       " 0.4724,\n",
       " -0.2023,\n",
       " 0.0,\n",
       " 0.4588,\n",
       " -0.6808,\n",
       " 0.0,\n",
       " 0.1126,\n",
       " 0.25,\n",
       " -0.25,\n",
       " 0.0,\n",
       " -0.4497,\n",
       " 0.2263,\n",
       " -0.1779,\n",
       " 0.0,\n",
       " 0.128,\n",
       " -0.3744,\n",
       " 0.0818,\n",
       " 0.2732,\n",
       " 0.5719,\n",
       " 0.0,\n",
       " 0.2865,\n",
       " 0.5859,\n",
       " 0.8176,\n",
       " 0.6369,\n",
       " 0.5859,\n",
       " 0.2922,\n",
       " 0.0,\n",
       " -0.5256,\n",
       " -0.3182,\n",
       " 0.2144,\n",
       " 0.0,\n",
       " 0.3612,\n",
       " 0.0,\n",
       " -0.0772,\n",
       " 0.6369,\n",
       " -0.5994,\n",
       " 0.0,\n",
       " 0.4404,\n",
       " 0.1154,\n",
       " 0.5063,\n",
       " 0.25,\n",
       " 0.8004,\n",
       " 0.3597,\n",
       " -0.3182,\n",
       " -0.3818,\n",
       " 0.6249,\n",
       " 0.0,\n",
       " 0.4404,\n",
       " 0.0,\n",
       " -0.8074,\n",
       " 0.6705,\n",
       " 0.25,\n",
       " 0.0,\n",
       " -0.1531,\n",
       " 0.4404,\n",
       " 0.5106,\n",
       " -0.4588,\n",
       " 0.0,\n",
       " 0.541,\n",
       " 0.0387,\n",
       " -0.8316,\n",
       " 0.4019,\n",
       " 0.0,\n",
       " 0.1779,\n",
       " 0.0772,\n",
       " 0.3612,\n",
       " 0.3612,\n",
       " 0.1531,\n",
       " 0.8511,\n",
       " 0.0,\n",
       " 0.128,\n",
       " 0.2263,\n",
       " 0.6435,\n",
       " 0.501,\n",
       " -0.5429,\n",
       " -0.8501,\n",
       " -0.4767,\n",
       " 0.4215,\n",
       " 0.7845,\n",
       " -0.3818,\n",
       " 0.3724,\n",
       " -0.8031,\n",
       " 0.296,\n",
       " 0.5859,\n",
       " 0.0,\n",
       " 0.0,\n",
       " 0.1027,\n",
       " -0.5719,\n",
       " 0.431,\n",
       " 0.1027,\n",
       " -0.7906,\n",
       " 0.0772,\n",
       " 0.4939,\n",
       " -0.25,\n",
       " 0.5859,\n",
       " -0.8658,\n",
       " 0.4497,\n",
       " 0.0,\n",
       " -0.296,\n",
       " 0.0,\n",
       " -0.5106,\n",
       " 0.5267,\n",
       " -0.5719,\n",
       " 0.6597,\n",
       " 0.0,\n",
       " 0.4019,\n",
       " -0.743,\n",
       " 0.3612,\n",
       " -0.6124,\n",
       " 0.0,\n",
       " -0.296,\n",
       " 0.0,\n",
       " 0.765,\n",
       " 0.6868,\n",
       " 0.3612,\n",
       " 0.8626,\n",
       " 0.296,\n",
       " -0.0077,\n",
       " 0.0,\n",
       " -0.3182,\n",
       " 0.25,\n",
       " 0.0,\n",
       " -0.7906,\n",
       " 0.6369,\n",
       " 0.8957,\n",
       " 0.736,\n",
       " 0.0,\n",
       " 0.0,\n",
       " 0.0,\n",
       " -0.0834,\n",
       " 0.0772,\n",
       " 0.2382,\n",
       " -0.1045,\n",
       " 0.0,\n",
       " 0.1531,\n",
       " -0.4019,\n",
       " -0.2732,\n",
       " -0.3612,\n",
       " 0.6378,\n",
       " -0.8225,\n",
       " -0.34,\n",
       " -0.25,\n",
       " -0.3612,\n",
       " 0.0,\n",
       " 0.0,\n",
       " -0.2732,\n",
       " -0.3818,\n",
       " 0.5106,\n",
       " 0.0,\n",
       " 0.7184,\n",
       " -0.3612,\n",
       " 0.6486,\n",
       " 0.0,\n",
       " 0.2023,\n",
       " -0.7645,\n",
       " 0.4336,\n",
       " -0.3612,\n",
       " 0.4939,\n",
       " -0.1298,\n",
       " 0.4767,\n",
       " -0.2732,\n",
       " -0.2023,\n",
       " -0.4588,\n",
       " 0.0,\n",
       " -0.6602,\n",
       " 0.6251,\n",
       " -0.6249,\n",
       " 0.1531,\n",
       " 0.4019,\n",
       " 0.5574,\n",
       " 0.0,\n",
       " 0.3818,\n",
       " 0.0,\n",
       " 0.0,\n",
       " 0.2263,\n",
       " 0.0,\n",
       " 0.3182,\n",
       " -0.9252,\n",
       " 0.0,\n",
       " 0.7884,\n",
       " 0.0,\n",
       " 0.0,\n",
       " -0.1027,\n",
       " 0.5574,\n",
       " 0.2111,\n",
       " -0.5423,\n",
       " 0.0,\n",
       " 0.3612,\n",
       " 0.2732,\n",
       " 0.6856,\n",
       " 0.0,\n",
       " 0.0,\n",
       " -0.296,\n",
       " 0.6932,\n",
       " 0.0,\n",
       " 0.0258,\n",
       " -0.765,\n",
       " 0.5145,\n",
       " 0.4019,\n",
       " 0.0516,\n",
       " -0.34,\n",
       " 0.2732,\n",
       " 0.4215,\n",
       " -0.4404,\n",
       " 0.3707,\n",
       " 0.7579,\n",
       " -0.5446,\n",
       " -0.0972,\n",
       " 0.4019,\n",
       " 0.5627,\n",
       " 0.0,\n",
       " -0.3919,\n",
       " 0.8176,\n",
       " 0.0,\n",
       " 0.818,\n",
       " 0.0,\n",
       " 0.0,\n",
       " 0.6231,\n",
       " 0.6187,\n",
       " 0.397,\n",
       " 0.9246,\n",
       " 0.5267,\n",
       " 0.836,\n",
       " -0.6326,\n",
       " 0.3182,\n",
       " 0.5096,\n",
       " 0.6077,\n",
       " 0.0,\n",
       " -0.4215,\n",
       " -0.4019,\n",
       " -0.3138,\n",
       " 0.4574,\n",
       " 0.8979,\n",
       " 0.7003,\n",
       " 0.7184,\n",
       " -0.7096,\n",
       " 0.8294,\n",
       " 0.0,\n",
       " -0.4404,\n",
       " 0.0757,\n",
       " 0.8481,\n",
       " 0.1779,\n",
       " 0.3291,\n",
       " -0.4527,\n",
       " 0.0258,\n",
       " 0.0697,\n",
       " -0.7717,\n",
       " 0.4159,\n",
       " -0.6486,\n",
       " 0.0,\n",
       " -0.1531,\n",
       " 0.0,\n",
       " 0.0,\n",
       " -0.3612,\n",
       " -0.7184,\n",
       " 0.4585,\n",
       " 0.0,\n",
       " -0.2732,\n",
       " -0.836,\n",
       " -0.5106,\n",
       " -0.4971,\n",
       " -0.1298,\n",
       " -0.1136,\n",
       " 0.0,\n",
       " 0.1531,\n",
       " -0.4404,\n",
       " -0.6808,\n",
       " -0.0516,\n",
       " -0.8173,\n",
       " 0.7783,\n",
       " 0.0,\n",
       " 0.0,\n",
       " -0.0772,\n",
       " -0.4023,\n",
       " 0.2263,\n",
       " -0.5423,\n",
       " -0.7469,\n",
       " -0.2732,\n",
       " 0.5023,\n",
       " -0.6808,\n",
       " -0.9169,\n",
       " -0.3182,\n",
       " -0.4767,\n",
       " -0.128,\n",
       " 0.1779,\n",
       " 0.0,\n",
       " 0.1779,\n",
       " -0.2201,\n",
       " 0.6943,\n",
       " 0.0276,\n",
       " 0.1526,\n",
       " 0.0,\n",
       " -0.6369,\n",
       " -0.8553,\n",
       " -0.34,\n",
       " -0.5994,\n",
       " 0.7425,\n",
       " 0.2382,\n",
       " -0.296,\n",
       " 0.0,\n",
       " 0.5423,\n",
       " 0.2732,\n",
       " 0.6249,\n",
       " -0.3612,\n",
       " -0.0258,\n",
       " 0.4019,\n",
       " -0.3612,\n",
       " -0.5023,\n",
       " 0.2144,\n",
       " 0.5574,\n",
       " -0.2023,\n",
       " 0.6858,\n",
       " 0.3412,\n",
       " 0.0,\n",
       " 0.8462,\n",
       " 0.0,\n",
       " -0.6297,\n",
       " 0.1531,\n",
       " 0.0,\n",
       " 0.0,\n",
       " -0.3182,\n",
       " -0.4215,\n",
       " -0.3612,\n",
       " 0.2846,\n",
       " 0.0,\n",
       " 0.7964,\n",
       " -0.4404,\n",
       " 0.0,\n",
       " 0.3182,\n",
       " -0.8074,\n",
       " 0.2609,\n",
       " -0.7964,\n",
       " 0.3612,\n",
       " -0.1531,\n",
       " -0.5334,\n",
       " 0.2382,\n",
       " 0.0,\n",
       " 0.1027,\n",
       " 0.3291,\n",
       " 0.2944,\n",
       " 0.0,\n",
       " -0.4404,\n",
       " 0.1779,\n",
       " -0.6908,\n",
       " 0.8218,\n",
       " 0.7096,\n",
       " 0.0,\n",
       " -0.5106,\n",
       " -0.1285,\n",
       " 0.34,\n",
       " 0.4927,\n",
       " 0.6705,\n",
       " 0.1139,\n",
       " 0.2732,\n",
       " 0.0,\n",
       " 0.7771,\n",
       " 0.0,\n",
       " 0.3839,\n",
       " 0.3612,\n",
       " -0.1531,\n",
       " -0.5423,\n",
       " 0.0,\n",
       " 0.8834,\n",
       " -0.5574,\n",
       " 0.4744,\n",
       " 0.0,\n",
       " 0.2023,\n",
       " 0.6094,\n",
       " 0.5106,\n",
       " 0.0,\n",
       " -0.0516,\n",
       " 0.3016,\n",
       " -0.5719,\n",
       " -0.6124,\n",
       " -0.8316,\n",
       " 0.0191,\n",
       " 0.5994,\n",
       " 0.0,\n",
       " -0.5719,\n",
       " -0.4019,\n",
       " 0.0,\n",
       " 0.5859,\n",
       " -0.5563,\n",
       " -0.34,\n",
       " 0.4404,\n",
       " 0.0,\n",
       " 0.4215,\n",
       " -0.128,\n",
       " -0.3612,\n",
       " -0.7876,\n",
       " -0.25,\n",
       " 0.5719,\n",
       " 0.5994,\n",
       " 0.1994,\n",
       " 0.0,\n",
       " 0.4588,\n",
       " 0.3716,\n",
       " -0.8481,\n",
       " -0.8292,\n",
       " -0.4927,\n",
       " 0.2144,\n",
       " -0.7579,\n",
       " 0.0,\n",
       " 0.0,\n",
       " 0.0,\n",
       " 0.5423,\n",
       " 0.0,\n",
       " -0.3559,\n",
       " -0.6956,\n",
       " -0.8971,\n",
       " 0.4287,\n",
       " -0.5106,\n",
       " 0.1531,\n",
       " 0.5994,\n",
       " -0.4019,\n",
       " -0.8519,\n",
       " 0.6696,\n",
       " 0.0258,\n",
       " 0.0,\n",
       " -0.128,\n",
       " -0.5733,\n",
       " 0.0,\n",
       " -0.5423,\n",
       " 0.0387,\n",
       " -0.1779,\n",
       " 0.2006,\n",
       " -0.5499,\n",
       " 0.3673,\n",
       " 0.0,\n",
       " 0.2732,\n",
       " -0.7346,\n",
       " -0.2732,\n",
       " 0.5994,\n",
       " 0.6124,\n",
       " -0.0772,\n",
       " 0.0,\n",
       " 0.0,\n",
       " -0.1189,\n",
       " 0.802,\n",
       " 0.6908,\n",
       " 0.296,\n",
       " 0.6249,\n",
       " -0.4588,\n",
       " -0.2565,\n",
       " 0.3818,\n",
       " -0.1027,\n",
       " -0.4404,\n",
       " -0.5994,\n",
       " 0.3682,\n",
       " 0.0,\n",
       " -0.8885,\n",
       " -0.5267,\n",
       " 0.5423,\n",
       " -0.785,\n",
       " -0.6808,\n",
       " -0.3182,\n",
       " -0.6908,\n",
       " 0.0,\n",
       " 0.6486,\n",
       " 0.7351,\n",
       " -0.0772,\n",
       " 0.0,\n",
       " -0.1119,\n",
       " 0.6249,\n",
       " 0.3612,\n",
       " 0.1027,\n",
       " -0.6361,\n",
       " 0.0,\n",
       " -0.4404,\n",
       " 0.3818,\n",
       " -0.34,\n",
       " -0.3612,\n",
       " 0.4118,\n",
       " 0.8174,\n",
       " 0.2732,\n",
       " -0.7845,\n",
       " 0.5719,\n",
       " 0.0,\n",
       " -0.6369,\n",
       " -0.7346,\n",
       " -0.4019,\n",
       " 0.0,\n",
       " 0.7026,\n",
       " 0.1655,\n",
       " 0.0258,\n",
       " 0.2023,\n",
       " 0.09,\n",
       " -0.7845,\n",
       " 0.0,\n",
       " 0.0,\n",
       " 0.0,\n",
       " -0.3612,\n",
       " -0.7506,\n",
       " -0.7501,\n",
       " 0.0,\n",
       " -0.7184,\n",
       " -0.6486,\n",
       " -0.68,\n",
       " 0.0,\n",
       " -0.6124,\n",
       " -0.6705,\n",
       " -0.1015,\n",
       " -0.128,\n",
       " 0.0,\n",
       " 0.1018,\n",
       " 0.926,\n",
       " -0.2732,\n",
       " -0.471,\n",
       " 0.4215,\n",
       " -0.2023,\n",
       " 0.8225,\n",
       " 0.6369,\n",
       " -0.0909,\n",
       " 0.296,\n",
       " 0.0258,\n",
       " 0.7906,\n",
       " -0.687,\n",
       " 0.0,\n",
       " 0.0,\n",
       " 0.1706,\n",
       " 0.5719,\n",
       " 0.0,\n",
       " -0.4549,\n",
       " 0.0,\n",
       " 0.0,\n",
       " -0.3612,\n",
       " -0.34,\n",
       " 0.7717,\n",
       " 0.0,\n",
       " -0.6485,\n",
       " -0.1043,\n",
       " -0.4215,\n",
       " -0.0459,\n",
       " 0.3612,\n",
       " 0.0,\n",
       " -0.4215,\n",
       " 0.3818,\n",
       " 0.1227,\n",
       " 0.5994,\n",
       " 0.5106,\n",
       " 0.4767,\n",
       " 0.0,\n",
       " 0.0772,\n",
       " -0.4215,\n",
       " -0.6771,\n",
       " 0.2846,\n",
       " 0.0772,\n",
       " -0.3612,\n",
       " 0.3291,\n",
       " -0.7506,\n",
       " 0.8201,\n",
       " 0.4588,\n",
       " 0.0,\n",
       " 0.0,\n",
       " 0.0,\n",
       " -0.7845,\n",
       " 0.0,\n",
       " 0.5574,\n",
       " 0.0,\n",
       " -0.431,\n",
       " -0.1869,\n",
       " 0.8998,\n",
       " 0.0,\n",
       " -0.6897,\n",
       " -0.3477,\n",
       " -0.25,\n",
       " -0.0516,\n",
       " -0.5719,\n",
       " -0.8689,\n",
       " -0.6369,\n",
       " 0.8176,\n",
       " 0.0,\n",
       " -0.3896,\n",
       " 0.4019,\n",
       " 0.3612,\n",
       " -0.2263,\n",
       " -0.4588,\n",
       " -0.411,\n",
       " 0.6956,\n",
       " -0.6249,\n",
       " -0.7015,\n",
       " -0.5267,\n",
       " -0.3976,\n",
       " 0.296,\n",
       " 0.4215,\n",
       " -0.836,\n",
       " 0.4404,\n",
       " 0.0,\n",
       " 0.5267,\n",
       " 0.0,\n",
       " 0.0,\n",
       " -0.101,\n",
       " -0.1027,\n",
       " -0.8316,\n",
       " -0.4767,\n",
       " 0.4767,\n",
       " 0.4019,\n",
       " -0.128,\n",
       " 0.0,\n",
       " 0.2732,\n",
       " -0.5078,\n",
       " 0.5859,\n",
       " -0.296,\n",
       " -0.192,\n",
       " -0.6492,\n",
       " 0.4497,\n",
       " -0.0516,\n",
       " -0.2023,\n",
       " 0.0,\n",
       " -0.4588,\n",
       " 0.6486,\n",
       " 0.2263,\n",
       " 0.3415,\n",
       " 0.2681,\n",
       " -0.5267,\n",
       " 0.3612,\n",
       " 0.0,\n",
       " 0.6486,\n",
       " 0.0,\n",
       " 0.1027,\n",
       " 0.5859,\n",
       " -0.3089,\n",
       " 0.0,\n",
       " 0.0,\n",
       " 0.7994,\n",
       " -0.4404,\n",
       " -0.4215,\n",
       " 0.0,\n",
       " -0.34,\n",
       " 0.5423,\n",
       " 0.4588,\n",
       " 0.6597,\n",
       " 0.128,\n",
       " -0.4019,\n",
       " 0.0258,\n",
       " 0.0,\n",
       " 0.7605,\n",
       " -0.7717,\n",
       " 0.0,\n",
       " 0.296,\n",
       " 0.0018,\n",
       " 0.2732,\n",
       " 0.2732,\n",
       " -0.5367,\n",
       " -0.8074,\n",
       " -0.34,\n",
       " 0.6808,\n",
       " 0.0422,\n",
       " 0.2363,\n",
       " -0.4019,\n",
       " 0.0,\n",
       " -0.8353,\n",
       " -0.6486,\n",
       " -0.836,\n",
       " 0.0,\n",
       " 0.4201,\n",
       " 0.0,\n",
       " 0.1406,\n",
       " 0.4019,\n",
       " 0.2732,\n",
       " 0.0,\n",
       " 0.5898,\n",
       " 0.0,\n",
       " 0.0,\n",
       " ...]"
      ]
     },
     "execution_count": 68,
     "metadata": {},
     "output_type": "execute_result"
    }
   ],
   "source": [
    "[vaderSentiment(oneNegativeReview) for oneNegativeReview in negativeReviews]"
   ]
  },
  {
   "cell_type": "markdown",
   "metadata": {},
   "source": [
    "### Function that gives a dictionary with negatives and positives reviews"
   ]
  },
  {
   "cell_type": "code",
   "execution_count": 69,
   "metadata": {},
   "outputs": [],
   "source": [
    "def getReviewSentiments(sentimentCalculator):\n",
    "    negReviewResult = [sentimentCalculator(oneNegativeReview) for oneNegativeReview in negativeReviews]\n",
    "    posReviewResult = [sentimentCalculator(onePositiveReview) for onePositiveReview in positiveReviews]\n",
    "    return{'results-on-positive': posReviewResult, 'results-on-negative':negReviewResult}"
   ]
  },
  {
   "cell_type": "code",
   "execution_count": 70,
   "metadata": {},
   "outputs": [],
   "source": [
    "vaderResults = getReviewSentiments(vaderSentiment)"
   ]
  },
  {
   "cell_type": "code",
   "execution_count": 71,
   "metadata": {},
   "outputs": [
    {
     "data": {
      "text/plain": [
       "dict_keys(['results-on-positive', 'results-on-negative'])"
      ]
     },
     "execution_count": 71,
     "metadata": {},
     "output_type": "execute_result"
    }
   ],
   "source": [
    "vaderResults.keys()"
   ]
  },
  {
   "cell_type": "markdown",
   "metadata": {},
   "source": [
    "### Percentage of positives over negatives"
   ]
  },
  {
   "cell_type": "code",
   "execution_count": 72,
   "metadata": {},
   "outputs": [],
   "source": [
    "pctTruePositive = float(sum(x > 0 for x in vaderResults['results-on-positive']))/len(vaderResults['results-on-positive'])"
   ]
  },
  {
   "cell_type": "markdown",
   "metadata": {},
   "source": [
    "### Percentage of negatives over positives"
   ]
  },
  {
   "cell_type": "code",
   "execution_count": 73,
   "metadata": {},
   "outputs": [],
   "source": [
    "pctTrueNegative = float(sum(x > 0 for x in vaderResults['results-on-negative']))/len(vaderResults['results-on-negative'])"
   ]
  },
  {
   "cell_type": "code",
   "execution_count": 74,
   "metadata": {},
   "outputs": [],
   "source": [
    "positiveReviewsResult = vaderResults['results-on-positive']\n",
    "negativeReviewsResult = vaderResults['results-on-negative']"
   ]
  },
  {
   "cell_type": "markdown",
   "metadata": {},
   "source": [
    "### Printing overall accuracy"
   ]
  },
  {
   "cell_type": "code",
   "execution_count": 75,
   "metadata": {},
   "outputs": [
    {
     "name": "stdout",
     "output_type": "stream",
     "text": [
      "Overall accuracy = 55%\n"
     ]
    }
   ],
   "source": [
    "total_Accurate = float(sum(x > 0 for x in positiveReviewsResult)) + float(sum(x < 0 for x in negativeReviewsResult))\n",
    "total = len(positiveReviewsResult) + len(negativeReviewsResult)\n",
    "print(\"Overall accuracy = \" + \"%2.f\" % (total_Accurate * 100/total) + \"%\")"
   ]
  },
  {
   "cell_type": "markdown",
   "metadata": {},
   "source": [
    "### Function that gives us the accuracies of our model using vader"
   ]
  },
  {
   "cell_type": "code",
   "execution_count": 76,
   "metadata": {},
   "outputs": [],
   "source": [
    "def runDiagnostics(reviewSentiments):\n",
    "    positiveReviewsResult = reviewSentiments['results-on-positive']\n",
    "    negativeReviewsResult = reviewSentiments['results-on-negative']\n",
    "    \n",
    "    pctTruePositive = float(sum(x > 0 for x in positiveReviewsResult))/len(positiveReviewsResult)\n",
    "    pctTrueNegative = float(sum(x > 0 for x in negativeReviewsResult))/len(negativeReviewsResult)\n",
    "    \n",
    "    totalAccurate = float(sum(x > 0 for x in positiveReviewsResult)) + float(sum(x > 0 for x in negativeReviewsResult))\n",
    "    total = len(positiveReviewsResult) + len(negativeReviewsResult)\n",
    "    \n",
    "    print(\"Accuracy on positive reviews = \" + \"%.2f\" % (pctTruePositive*100) + \"%\")\n",
    "    print(\"Accuracy on negative reviews = \" + \"%.2f\" % (pctTrueNegative*100) + \"%\")\n",
    "    print(\"Overall accuracy = \" + \"%.2f\" % (totalAccurate*100/total) + \"%\")"
   ]
  },
  {
   "cell_type": "code",
   "execution_count": 77,
   "metadata": {},
   "outputs": [
    {
     "name": "stdout",
     "output_type": "stream",
     "text": [
      "Accuracy on positive reviews = 69.44%\n",
      "Accuracy on negative reviews = 42.26%\n",
      "Overall accuracy = 55.85%\n"
     ]
    }
   ],
   "source": [
    "runDiagnostics(getReviewSentiments(vaderSentiment))"
   ]
  },
  {
   "cell_type": "markdown",
   "metadata": {},
   "source": [
    "### Sentiwordnet for different meanings of a word (negative/positive) we are going to use the most common in our function (\"[0]\")"
   ]
  },
  {
   "cell_type": "code",
   "execution_count": 78,
   "metadata": {},
   "outputs": [],
   "source": [
    "from nltk.corpus import sentiwordnet as swn"
   ]
  },
  {
   "cell_type": "code",
   "execution_count": 79,
   "metadata": {},
   "outputs": [
    {
     "data": {
      "text/plain": [
       "<filter at 0x1944e82d700>"
      ]
     },
     "execution_count": 79,
     "metadata": {},
     "output_type": "execute_result"
    }
   ],
   "source": [
    "swn.senti_synsets('dog')"
   ]
  },
  {
   "cell_type": "code",
   "execution_count": 80,
   "metadata": {},
   "outputs": [
    {
     "data": {
      "text/plain": [
       "SentiSynset('cad.n.01')"
      ]
     },
     "execution_count": 80,
     "metadata": {},
     "output_type": "execute_result"
    }
   ],
   "source": [
    "list(swn.senti_synsets('dog'))[3]"
   ]
  },
  {
   "cell_type": "code",
   "execution_count": 81,
   "metadata": {},
   "outputs": [
    {
     "data": {
      "text/plain": [
       "1.0"
      ]
     },
     "execution_count": 81,
     "metadata": {},
     "output_type": "execute_result"
    }
   ],
   "source": [
    "list(swn.senti_synsets('dog'))[3].neg_score()"
   ]
  },
  {
   "cell_type": "code",
   "execution_count": 82,
   "metadata": {},
   "outputs": [],
   "source": [
    "from nltk.corpus import sentiwordnet as swn"
   ]
  },
  {
   "cell_type": "markdown",
   "metadata": {},
   "source": [
    "### Function that uses the score of the most common meaning of the word. It is going to depend of the positive or negative score, the one that is higher, is the one we are going to use."
   ]
  },
  {
   "cell_type": "code",
   "execution_count": 94,
   "metadata": {},
   "outputs": [],
   "source": [
    "def superNaiveSentiment(review):\n",
    "    reviewPolarity = 0.0\n",
    "    numExceptions = 0\n",
    "    for word in review.lower().split():\n",
    "        weight = 0.0\n",
    "        try:\n",
    "            common_meaning = list(swn.senti_synsets(word))[0]\n",
    "            if common_meaning.pos_score() > common_meaning.neg_score():\n",
    "                weight = weight + common_meaning.pos_score()\n",
    "            elif common_meaning.pos_score() < common_meaning.neg_score():\n",
    "                weight = weight - common_meaning.neg_score()\n",
    "        except:\n",
    "            numExceptions = numExceptions + 1\n",
    "        reviewPolarity = reviewPolarity + weight\n",
    "    return reviewPolarity          "
   ]
  },
  {
   "cell_type": "code",
   "execution_count": 95,
   "metadata": {},
   "outputs": [
    {
     "name": "stdout",
     "output_type": "stream",
     "text": [
      "Accuracy on positive reviews = 65.13%\n",
      "Accuracy on negative reviews = 48.30%\n",
      "Overall accuracy = 56.72%\n"
     ]
    }
   ],
   "source": [
    "runDiagnostics(getReviewSentiments(superNaiveSentiment))"
   ]
  },
  {
   "cell_type": "markdown",
   "metadata": {},
   "source": [
    "### Defining our own stopwords."
   ]
  },
  {
   "cell_type": "code",
   "execution_count": 96,
   "metadata": {},
   "outputs": [],
   "source": [
    "from string import punctuation\n",
    "from nltk.corpus import stopwords"
   ]
  },
  {
   "cell_type": "code",
   "execution_count": 97,
   "metadata": {},
   "outputs": [],
   "source": [
    "stopwords = set(stopwords.words('english') + list(punctuation))"
   ]
  },
  {
   "cell_type": "code",
   "execution_count": 98,
   "metadata": {},
   "outputs": [
    {
     "data": {
      "text/plain": [
       "['!',\n",
       " '\"',\n",
       " '#',\n",
       " '$',\n",
       " '%',\n",
       " '&',\n",
       " \"'\",\n",
       " '(',\n",
       " ')',\n",
       " '*',\n",
       " '+',\n",
       " ',',\n",
       " '-',\n",
       " '.',\n",
       " '/',\n",
       " ':',\n",
       " ';',\n",
       " '<',\n",
       " '=',\n",
       " '>',\n",
       " '?',\n",
       " '@',\n",
       " '[',\n",
       " '\\\\',\n",
       " ']',\n",
       " '^',\n",
       " '_',\n",
       " '`',\n",
       " '{',\n",
       " '|',\n",
       " '}',\n",
       " '~']"
      ]
     },
     "execution_count": 98,
     "metadata": {},
     "output_type": "execute_result"
    }
   ],
   "source": [
    "list(punctuation)"
   ]
  },
  {
   "cell_type": "code",
   "execution_count": 88,
   "metadata": {},
   "outputs": [
    {
     "data": {
      "text/plain": [
       "{'!',\n",
       " '\"',\n",
       " '#',\n",
       " '$',\n",
       " '%',\n",
       " '&',\n",
       " \"'\",\n",
       " '(',\n",
       " ')',\n",
       " '*',\n",
       " '+',\n",
       " ',',\n",
       " '-',\n",
       " '.',\n",
       " '/',\n",
       " ':',\n",
       " ';',\n",
       " '<',\n",
       " '=',\n",
       " '>',\n",
       " '?',\n",
       " '@',\n",
       " '[',\n",
       " '\\\\',\n",
       " ']',\n",
       " '^',\n",
       " '_',\n",
       " '`',\n",
       " 'a',\n",
       " 'about',\n",
       " 'above',\n",
       " 'after',\n",
       " 'again',\n",
       " 'against',\n",
       " 'ain',\n",
       " 'all',\n",
       " 'am',\n",
       " 'an',\n",
       " 'and',\n",
       " 'any',\n",
       " 'are',\n",
       " 'aren',\n",
       " \"aren't\",\n",
       " 'as',\n",
       " 'at',\n",
       " 'be',\n",
       " 'because',\n",
       " 'been',\n",
       " 'before',\n",
       " 'being',\n",
       " 'below',\n",
       " 'between',\n",
       " 'both',\n",
       " 'but',\n",
       " 'by',\n",
       " 'can',\n",
       " 'couldn',\n",
       " \"couldn't\",\n",
       " 'd',\n",
       " 'did',\n",
       " 'didn',\n",
       " \"didn't\",\n",
       " 'do',\n",
       " 'does',\n",
       " 'doesn',\n",
       " \"doesn't\",\n",
       " 'doing',\n",
       " 'don',\n",
       " \"don't\",\n",
       " 'down',\n",
       " 'during',\n",
       " 'each',\n",
       " 'few',\n",
       " 'for',\n",
       " 'from',\n",
       " 'further',\n",
       " 'had',\n",
       " 'hadn',\n",
       " \"hadn't\",\n",
       " 'has',\n",
       " 'hasn',\n",
       " \"hasn't\",\n",
       " 'have',\n",
       " 'haven',\n",
       " \"haven't\",\n",
       " 'having',\n",
       " 'he',\n",
       " 'her',\n",
       " 'here',\n",
       " 'hers',\n",
       " 'herself',\n",
       " 'him',\n",
       " 'himself',\n",
       " 'his',\n",
       " 'how',\n",
       " 'i',\n",
       " 'if',\n",
       " 'in',\n",
       " 'into',\n",
       " 'is',\n",
       " 'isn',\n",
       " \"isn't\",\n",
       " 'it',\n",
       " \"it's\",\n",
       " 'its',\n",
       " 'itself',\n",
       " 'just',\n",
       " 'll',\n",
       " 'm',\n",
       " 'ma',\n",
       " 'me',\n",
       " 'mightn',\n",
       " \"mightn't\",\n",
       " 'more',\n",
       " 'most',\n",
       " 'mustn',\n",
       " \"mustn't\",\n",
       " 'my',\n",
       " 'myself',\n",
       " 'needn',\n",
       " \"needn't\",\n",
       " 'no',\n",
       " 'nor',\n",
       " 'not',\n",
       " 'now',\n",
       " 'o',\n",
       " 'of',\n",
       " 'off',\n",
       " 'on',\n",
       " 'once',\n",
       " 'only',\n",
       " 'or',\n",
       " 'other',\n",
       " 'our',\n",
       " 'ours',\n",
       " 'ourselves',\n",
       " 'out',\n",
       " 'over',\n",
       " 'own',\n",
       " 're',\n",
       " 's',\n",
       " 'same',\n",
       " 'shan',\n",
       " \"shan't\",\n",
       " 'she',\n",
       " \"she's\",\n",
       " 'should',\n",
       " \"should've\",\n",
       " 'shouldn',\n",
       " \"shouldn't\",\n",
       " 'so',\n",
       " 'some',\n",
       " 'such',\n",
       " 't',\n",
       " 'than',\n",
       " 'that',\n",
       " \"that'll\",\n",
       " 'the',\n",
       " 'their',\n",
       " 'theirs',\n",
       " 'them',\n",
       " 'themselves',\n",
       " 'then',\n",
       " 'there',\n",
       " 'these',\n",
       " 'they',\n",
       " 'this',\n",
       " 'those',\n",
       " 'through',\n",
       " 'to',\n",
       " 'too',\n",
       " 'under',\n",
       " 'until',\n",
       " 'up',\n",
       " 've',\n",
       " 'very',\n",
       " 'was',\n",
       " 'wasn',\n",
       " \"wasn't\",\n",
       " 'we',\n",
       " 'were',\n",
       " 'weren',\n",
       " \"weren't\",\n",
       " 'what',\n",
       " 'when',\n",
       " 'where',\n",
       " 'which',\n",
       " 'while',\n",
       " 'who',\n",
       " 'whom',\n",
       " 'why',\n",
       " 'will',\n",
       " 'with',\n",
       " 'won',\n",
       " \"won't\",\n",
       " 'wouldn',\n",
       " \"wouldn't\",\n",
       " 'y',\n",
       " 'you',\n",
       " \"you'd\",\n",
       " \"you'll\",\n",
       " \"you're\",\n",
       " \"you've\",\n",
       " 'your',\n",
       " 'yours',\n",
       " 'yourself',\n",
       " 'yourselves',\n",
       " '{',\n",
       " '|',\n",
       " '}',\n",
       " '~'}"
      ]
     },
     "execution_count": 88,
     "metadata": {},
     "output_type": "execute_result"
    }
   ],
   "source": [
    "stopwords"
   ]
  },
  {
   "cell_type": "markdown",
   "metadata": {},
   "source": [
    "### Improved function that selects the best meaning of the word that could be positive or negative."
   ]
  },
  {
   "cell_type": "code",
   "execution_count": 89,
   "metadata": {},
   "outputs": [],
   "source": [
    "def naiveSentiment(review):\n",
    "    reviewPolarity = 0.0\n",
    "    numExceptions = 0\n",
    "    for word in review.lower().split():\n",
    "        numMeanings = 0\n",
    "        if word in stopwords:\n",
    "            continue\n",
    "        weight = 0.0\n",
    "        try:\n",
    "            for meaning in swn.senti_synsets(word):                  \n",
    "                if meaning.pos_score() > meaning.neg_score():\n",
    "                    weight = weight + (meaning.pos_score() - meaning.neg_score())\n",
    "                    numMeanings += 1\n",
    "                elif meaning.pos_score() < meaning.neg_score():\n",
    "                    weight = weight - (meaning.neg_score() - meaning.pos_score())\n",
    "                    numMeanings += 1\n",
    "        except:\n",
    "            numExceptions += 1        \n",
    "        if numMeanings > 0:            \n",
    "            reviewPolarity += (weight/numMeanings)\n",
    "    return reviewPolarity"
   ]
  },
  {
   "cell_type": "code",
   "execution_count": 90,
   "metadata": {},
   "outputs": [
    {
     "name": "stdout",
     "output_type": "stream",
     "text": [
      "Accuracy on positive reviews = 75.56%\n",
      "Accuracy on negative reviews = 56.05%\n",
      "Overall accuracy = 65.80%\n"
     ]
    }
   ],
   "source": [
    "runDiagnostics(getReviewSentiments(naiveSentiment))"
   ]
  },
  {
   "cell_type": "code",
   "execution_count": null,
   "metadata": {},
   "outputs": [],
   "source": []
  },
  {
   "cell_type": "code",
   "execution_count": null,
   "metadata": {},
   "outputs": [],
   "source": []
  },
  {
   "cell_type": "code",
   "execution_count": null,
   "metadata": {},
   "outputs": [],
   "source": []
  },
  {
   "cell_type": "code",
   "execution_count": null,
   "metadata": {},
   "outputs": [],
   "source": []
  }
 ],
 "metadata": {
  "kernelspec": {
   "display_name": "Python 3",
   "language": "python",
   "name": "python3"
  },
  "language_info": {
   "codemirror_mode": {
    "name": "ipython",
    "version": 3
   },
   "file_extension": ".py",
   "mimetype": "text/x-python",
   "name": "python",
   "nbconvert_exporter": "python",
   "pygments_lexer": "ipython3",
   "version": "3.8.5"
  }
 },
 "nbformat": 4,
 "nbformat_minor": 4
}
